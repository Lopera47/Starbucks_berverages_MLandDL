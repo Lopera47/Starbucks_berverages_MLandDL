{
 "cells": [
  {
   "cell_type": "code",
   "execution_count": null,
   "metadata": {},
   "outputs": [],
   "source": [
    "# This script is to build a linear regression model"
   ]
  }
 ],
 "metadata": {
  "kernelspec": {
   "display_name": "Python 3.10.7 64-bit",
   "language": "python",
   "name": "python3"
  },
  "language_info": {
   "name": "python",
   "version": "3.10.7"
  },
  "orig_nbformat": 4,
  "vscode": {
   "interpreter": {
    "hash": "f6d32b750fa661b054e64b2bd6962f09f79666ecbdf10451d4af8b245cd432aa"
   }
  }
 },
 "nbformat": 4,
 "nbformat_minor": 2
}
